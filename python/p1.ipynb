{
 "cells": [
  {
   "cell_type": "code",
   "execution_count": null,
   "metadata": {},
   "outputs": [],
   "source": [
    "# Cкрипт сравнивает скаченные файлы в папке с тем что есть в конфиге"
   ]
  },
  {
   "cell_type": "code",
   "execution_count": 7,
   "metadata": {},
   "outputs": [
    {
     "name": "stdout",
     "output_type": "stream",
     "text": [
      "Следующие файлы отсутствуют в конфиге:\n",
      "natalya\n",
      "test1\n",
      "dasha\n",
      "yulya\n",
      "natasha\n",
      "test2\n"
     ]
    }
   ],
   "source": [
    "import os\n",
    "import yaml\n",
    "\n",
    "# Пути к файлам и папкам\n",
    "download_folder = \"/Users/Roman/project/jaicp_pravoved_demo/Name_test\"\n",
    "config_path = \"/Users/Roman/project/jaicp_pravoved_demo/src/dicts/firstName.yaml\"\n",
    "\n",
    "# Читаем YAML конфиг\n",
    "def load_yaml_config(path):\n",
    "    with open(path, \"r\", encoding=\"utf-8\") as file:\n",
    "        return yaml.safe_load(file)\n",
    "\n",
    "# Загружаем конфиг\n",
    "config_data = load_yaml_config(config_path)\n",
    "\n",
    "# Получаем список всех имен из конфига\n",
    "config_names = set()\n",
    "for key, values in config_data.get(\"name\", {}).items():\n",
    "    config_names.add(key)\n",
    "    config_names.update(value.lower() for value in values)\n",
    "\n",
    "# Получаем список скачанных файлов\n",
    "downloaded_files = {file.replace(\".wav\", \"\") for file in os.listdir(download_folder) if file.endswith(\".wav\")}\n",
    "\n",
    "# Проверяем соответствие\n",
    "missing_files = downloaded_files - config_names\n",
    "\n",
    "# Вывод результата\n",
    "if missing_files:\n",
    "    print(\"Следующие файлы отсутствуют в конфиге:\")\n",
    "    for file in missing_files:\n",
    "        print(file)\n",
    "else:\n",
    "    print(\"Все файлы найдены в конфиге!\")"
   ]
  },
  {
   "cell_type": "code",
   "execution_count": null,
   "metadata": {},
   "outputs": [],
   "source": []
  }
 ],
 "metadata": {
  "kernelspec": {
   "display_name": "Python 3",
   "language": "python",
   "name": "python3"
  },
  "language_info": {
   "codemirror_mode": {
    "name": "ipython",
    "version": 3
   },
   "file_extension": ".py",
   "mimetype": "text/x-python",
   "name": "python",
   "nbconvert_exporter": "python",
   "pygments_lexer": "ipython3",
   "version": "3.9.6"
  }
 },
 "nbformat": 4,
 "nbformat_minor": 2
}
