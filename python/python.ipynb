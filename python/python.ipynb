{
 "cells": [
  {
   "cell_type": "code",
   "execution_count": 4,
   "metadata": {},
   "outputs": [],
   "source": [
    "# скачивам файлы с s3"
   ]
  },
  {
   "cell_type": "code",
   "execution_count": 5,
   "metadata": {},
   "outputs": [],
   "source": [
    "import os\n",
    "import requests"
   ]
  },
  {
   "cell_type": "code",
   "execution_count": null,
   "metadata": {},
   "outputs": [],
   "source": [
    "# Исходные данные - список файлов\n",
    "file_names = [\n",
    " \"diagnostika-dolzhnost.wav\", \"diagnostika-kakaya-tsena.wav\", \"diagnostika-kakie-tseli.wav\", \"diagnostika-nalichie-sistemy.wav\", \n",
    " \"diagnostika-ne-raspoznano-dosup.wav\", \"diagnostika-ne-raspoznano.wav\", \"diagnostika-pochta.wav\", \"diagnostika-robot.wav\", \"diagnostika-ucheba.wav\", \n",
    " \"diagnostika-ucheba_.wav\", \"diagnostika-zanyat.wav\", \"prodazha-detali.wav\", \"prodazha-informatsii-net.wav\", \"prodazha-informatsiya-poluchena1.wav\", \n",
    " \"prodazha-informatsiya-poluchena2.wav\", \"prodazha-kakaya-tsena.wav\", \"prodazha-kto-zvonit.wav\", \"prodazha-ne-raspoznano-prezentatsiya-vozrazhenie.wav\", \n",
    " \"prodazha-ne-raspoznano-prezentatsiya.wav\", \"prodazha-ne-raspoznano-pro-informatsiyu.wav\", \"prodazha-ne-raspoznano-pro-informer.wav\",\n",
    "   \"prodazha-ne-raspoznano-pro-sistemy.wav\", \"prodazha-ne-raspoznano-voprosy.wav\", \"prodazha-ne-raspoznano-vozrazhenie.wav\", \n",
    "   \"prodazha-ne-raspoznano-zhestkoe-vozrazhenie.wav\", \"prodazha-nekogda.wav\", \"prodazha-neyavnoe-soglasie.wav\", \n",
    "   \"prodazha-otkaz-dostup.wav\", \"prodazha-pochta.wav\", \"prodazha-predlozhenie.wav\", \"prodazha-robot.wav\", \n",
    "   \"prodazha-soglasie-dostup.wav\", \"prodazha-vozrazhenie.wav\", \"prodazha-zhestkoe-vozrazhenie.wav\", \"soglasie-informer-nekogda.wav\", \n",
    "   \"soglasie-sistemy-nekogda.wav\", \"start-kto-zvonit.wav\", \"start-ne-raspoznano.wav\", \"start-ne-vospolzovalsya-da.wav\", \n",
    "   \"start-ne-vospolzovalsya-net.wav\", \"start-ne-vospolzovalsya.wav\", \"start-privetstvie.wav\", \"start-zanyat.wav\",\n",
    "     \"zavershenie-agressiya.wav\", \"zavershenie-est-konsultant.wav\", \"zavershenie-ne-raspoznano.wav\", \"zavershenie-ne-tselevoy.wav\",\n",
    "       \"zavershenie-otkaz.wav\", \"zavershenie-perezvonit-ne-raspoznano.wav\", \"zavershenie-perezvonit-zavtra.wav\", \n",
    "       \"zavershenie-soglasie-informer.wav\", \"zavershenie-soglasie-ne-primet.wav\", \"zavershenie-soglasie-primet-cherez-polchasa.wav\", \n",
    "       \"zavershenie-soglasie-sistemy.wav\", \"zavershenie-student.wav\", \"zavershenie-zanyat.wav\"\n",
    "]\n"
   ]
  },
  {
   "cell_type": "code",
   "execution_count": 7,
   "metadata": {},
   "outputs": [
    {
     "name": "stdout",
     "output_type": "stream",
     "text": [
      "Файл diagnostika-dolzhnost.wav успешно скачан.\n",
      "Файл diagnostika-kakaya-tsena.wav успешно скачан.\n",
      "Файл diagnostika-kakie-tseli.wav успешно скачан.\n",
      "Файл diagnostika-nalichie-sistemy.wav успешно скачан.\n",
      "Файл diagnostika-ne-raspoznano-dosup.wav успешно скачан.\n",
      "Файл diagnostika-ne-raspoznano.wav успешно скачан.\n",
      "Файл diagnostika-pochta.wav успешно скачан.\n",
      "Файл diagnostika-robot.wav успешно скачан.\n",
      "Файл diagnostika-ucheba.wav успешно скачан.\n",
      "Файл diagnostika-ucheba_.wav успешно скачан.\n",
      "Файл diagnostika-zanyat.wav успешно скачан.\n",
      "Файл prodazha-detali.wav успешно скачан.\n",
      "Файл prodazha-informatsii-net.wav успешно скачан.\n",
      "Файл prodazha-informatsiya-poluchena1.wav успешно скачан.\n",
      "Файл prodazha-informatsiya-poluchena2.wav успешно скачан.\n",
      "Файл prodazha-kakaya-tsena.wav успешно скачан.\n",
      "Файл prodazha-kto-zvonit.wav успешно скачан.\n",
      "Файл prodazha-ne-raspoznano-prezentatsiya-vozrazhenie.wav успешно скачан.\n",
      "Файл prodazha-ne-raspoznano-prezentatsiya.wav успешно скачан.\n",
      "Файл prodazha-ne-raspoznano-pro-informatsiyu.wav успешно скачан.\n",
      "Файл prodazha-ne-raspoznano-pro-informer.wav успешно скачан.\n",
      "Файл prodazha-ne-raspoznano-pro-sistemy.wav успешно скачан.\n",
      "Файл prodazha-ne-raspoznano-voprosy.wav успешно скачан.\n",
      "Файл prodazha-ne-raspoznano-vozrazhenie.wav успешно скачан.\n",
      "Файл prodazha-ne-raspoznano-zhestkoe-vozrazhenie.wav успешно скачан.\n",
      "Файл prodazha-nekogda.wav успешно скачан.\n",
      "Файл prodazha-neyavnoe-soglasie.wav успешно скачан.\n",
      "Файл prodazha-otkaz-dostup.wav успешно скачан.\n",
      "Файл prodazha-pochta.wav успешно скачан.\n",
      "Файл prodazha-predlozhenie.wav успешно скачан.\n",
      "Файл prodazha-robot.wav успешно скачан.\n",
      "Файл prodazha-soglasie-dostup.wav успешно скачан.\n",
      "Файл prodazha-vozrazhenie.wav успешно скачан.\n",
      "Файл prodazha-zhestkoe-vozrazhenie.wav успешно скачан.\n",
      "Файл soglasie-informer-nekogda.wav успешно скачан.\n",
      "Файл soglasie-sistemy-nekogda.wav успешно скачан.\n",
      "Файл start-kto-zvonit.wav успешно скачан.\n",
      "Файл start-ne-raspoznano.wav успешно скачан.\n",
      "Файл start-ne-vospolzovalsya-da.wav успешно скачан.\n",
      "Файл start-ne-vospolzovalsya-net.wav успешно скачан.\n",
      "Файл start-ne-vospolzovalsya.wav успешно скачан.\n",
      "Файл start-privetstvie.wav успешно скачан.\n",
      "Файл start-zanyat.wav успешно скачан.\n",
      "Файл zavershenie-agressiya.wav успешно скачан.\n",
      "Файл zavershenie-est-konsultant.wav успешно скачан.\n",
      "Файл zavershenie-ne-raspoznano.wav успешно скачан.\n",
      "Файл zavershenie-ne-tselevoy.wav успешно скачан.\n",
      "Файл zavershenie-otkaz.wav успешно скачан.\n",
      "Файл zavershenie-perezvonit-ne-raspoznano.wav успешно скачан.\n",
      "Файл zavershenie-perezvonit-zavtra.wav успешно скачан.\n",
      "Файл zavershenie-soglasie-informer.wav успешно скачан.\n",
      "Файл zavershenie-soglasie-ne-primet.wav успешно скачан.\n",
      "Файл zavershenie-soglasie-primet-cherez-polchasa.wav успешно скачан.\n",
      "Файл zavershenie-soglasie-sistemy.wav успешно скачан.\n",
      "Файл zavershenie-student.wav успешно скачан.\n",
      "Файл zavershenie-zanyat.wav успешно скачан.\n"
     ]
    }
   ],
   "source": [
    "# URL префикс\n",
    "base_url = \"https://f91ce0dd-1d82-4419-9be0-62264b73469e.selstorage.ru/\"\n",
    "base_url = \"https://707d46d7-653f-40f1-a75f-0c649e3d632f.selstorage.ru/\" # чдк\n",
    "\n",
    "# Папка для скачивания\n",
    "download_folder = \"Name_test\"\n",
    "os.makedirs(download_folder, exist_ok=True)\n",
    "\n",
    "# Функция для скачивания файлов\n",
    "def download_files(file_names):\n",
    "    for file_name in file_names:\n",
    "        file_url = base_url + file_name  # Формирование URL\n",
    "        file_path = os.path.join(download_folder, file_name)  # Путь для сохранения\n",
    "        \n",
    "        try:\n",
    "            response = requests.get(file_url, stream=True)\n",
    "            response.raise_for_status()  # Проверка наличия ошибки\n",
    "            \n",
    "            with open(file_path, \"wb\") as file:\n",
    "                for chunk in response.iter_content(1024):\n",
    "                    file.write(chunk)\n",
    "            \n",
    "            print(f\"Файл {file_name} успешно скачан.\")\n",
    "        except requests.exceptions.RequestException as e:\n",
    "            print(f\"Ошибка при скачивании {file_name}: {e}\")\n",
    "\n",
    "# Запуск скачивания\n",
    "download_files(file_names)"
   ]
  },
  {
   "cell_type": "code",
   "execution_count": null,
   "metadata": {},
   "outputs": [],
   "source": []
  },
  {
   "cell_type": "code",
   "execution_count": null,
   "metadata": {},
   "outputs": [],
   "source": []
  }
 ],
 "metadata": {
  "kernelspec": {
   "display_name": "Python 3",
   "language": "python",
   "name": "python3"
  },
  "language_info": {
   "codemirror_mode": {
    "name": "ipython",
    "version": 3
   },
   "file_extension": ".py",
   "mimetype": "text/x-python",
   "name": "python",
   "nbconvert_exporter": "python",
   "pygments_lexer": "ipython3",
   "version": "3.9.6"
  }
 },
 "nbformat": 4,
 "nbformat_minor": 2
}
